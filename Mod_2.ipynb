{
  "nbformat": 4,
  "nbformat_minor": 0,
  "metadata": {
    "colab": {
      "name": "Mod_2.ipynb",
      "provenance": [],
      "include_colab_link": true
    },
    "kernelspec": {
      "name": "python3",
      "display_name": "Python 3"
    },
    "language_info": {
      "name": "python"
    }
  },
  "cells": [
    {
      "cell_type": "markdown",
      "metadata": {
        "id": "view-in-github",
        "colab_type": "text"
      },
      "source": [
        "<a href=\"https://colab.research.google.com/github/nallanasreya/pythonnew/blob/module2/Mod_2.ipynb\" target=\"_parent\"><img src=\"https://colab.research.google.com/assets/colab-badge.svg\" alt=\"Open In Colab\"/></a>"
      ]
    },
    {
      "cell_type": "markdown",
      "source": [
        "##### Create a function which accepts two inputs from the user and compute nCr"
      ],
      "metadata": {
        "id": "RTGngxq2NHiW"
      }
    },
    {
      "cell_type": "code",
      "execution_count": null,
      "metadata": {
        "id": "xE1oLGy6HpDR"
      },
      "outputs": [],
      "source": [
        "import math\n",
        "a=int(input(\"Enter N \"))\n",
        "b=int(input(\"Enter R \"))\n",
        "if a<b :\n",
        "  print(\"It's not possible \")\n",
        "else :\n",
        "  nf=math.factorial(a)\n",
        "  rf=math.factorial(b)\n",
        "  nnf=math.factorial((a-b))\n",
        "  s=nf/(nnf*rf)\n",
        "  print(f\"nCr is {s}\")"
      ]
    },
    {
      "cell_type": "markdown",
      "source": [
        "##### Recursive function to compute GCD of 2 numbers"
      ],
      "metadata": {
        "id": "lRMzmAXENQCn"
      }
    },
    {
      "cell_type": "code",
      "source": [
        "def gcd(a,b) :\n",
        "  k=a if (a<b) else b\n",
        "  while True:\n",
        "    if(a%k==0 and b%k==0):\n",
        "      break\n",
        "    k-=1\n",
        "  return k\n",
        "\n",
        "a=int(input(\"Enter 1st number \"))\n",
        "b=int(input(\"Enter 2nd number \"))\n",
        "g=gcd(a,b)\n",
        "print(g)"
      ],
      "metadata": {
        "id": "26lhOCIYKOLJ"
      },
      "execution_count": null,
      "outputs": []
    },
    {
      "cell_type": "markdown",
      "source": [
        "##### Recursive function to find product of two numbers"
      ],
      "metadata": {
        "id": "cUkvlidFHINj"
      }
    },
    {
      "cell_type": "code",
      "source": [
        "def prod(a,b) :\n",
        "  if a<b :\n",
        "    return prod(b,a)\n",
        "  elif b!=0 :\n",
        "    return (a+prod(a,b-1))\n",
        "  else :\n",
        "    return 0\n",
        "\n",
        "a=int(input(\"Enter 1st number \"))\n",
        "b=int(input(\"Enter 2nd number \"))\n",
        "p=prod(a,b)\n",
        "print(\"product of two numbers is\",p)"
      ],
      "metadata": {
        "id": "AokRZFAPHN7v"
      },
      "execution_count": null,
      "outputs": []
    },
    {
      "cell_type": "markdown",
      "source": [
        "##### Recursive function to generate Fibonacci series"
      ],
      "metadata": {
        "id": "zaDlGbjHI5jA"
      }
    },
    {
      "cell_type": "code",
      "source": [
        "def fibb(n):\n",
        "  if n<=1 :\n",
        "    return 1\n",
        "  else :\n",
        "    return fibb(n-1)+fibb(n-2)\n",
        "\n",
        "n=int(input(\"Enter no. of terms \"))\n",
        "print(\"Fibonacci series is -->\")\n",
        "for i in range (n) :\n",
        "  print(fibb(i))"
      ],
      "metadata": {
        "id": "Em8ywO-9JAWv"
      },
      "execution_count": null,
      "outputs": []
    },
    {
      "cell_type": "markdown",
      "source": [
        "#####Program to print a specified list after removing the 0th, 4th and 5th elements"
      ],
      "metadata": {
        "id": "HB6s7VdJNWxP"
      }
    },
    {
      "cell_type": "code",
      "source": [
        "def dele(a) :\n",
        "  a.pop(0)\n",
        "  a.pop(3)\n",
        "  a.pop(3)\n",
        "  return a\n",
        "\n",
        "List = ['Red', 'Green', 'White', 'Black', 'Pink', 'Yellow'] \n",
        "a= dele(List)\n",
        "print(a)"
      ],
      "metadata": {
        "id": "QaZhtZ5yMpZw"
      },
      "execution_count": null,
      "outputs": []
    },
    {
      "cell_type": "markdown",
      "source": [
        "##### Program to get the difference between the two lists"
      ],
      "metadata": {
        "id": "GWydRtAYONyo"
      }
    },
    {
      "cell_type": "code",
      "source": [
        "def addi(a,b) :\n",
        "  c=sum(a)-sum(b)\n",
        "  return c\n",
        "\n",
        "a=list(map(int, input().rstrip().split()))\n",
        "b=list(map(int, input().rstrip().split()))\n",
        "c=addi(a,b)\n",
        "print(c)"
      ],
      "metadata": {
        "id": "2TcLJ_p2OTF3"
      },
      "execution_count": null,
      "outputs": []
    },
    {
      "cell_type": "markdown",
      "source": [
        "##### Program to find the second smallest number and second largest number in a list."
      ],
      "metadata": {
        "id": "ggrvNlhlUbGn"
      }
    },
    {
      "cell_type": "code",
      "source": [
        "def second(a) :\n",
        "  a.sort()\n",
        "  l=len(a)\n",
        "  a.remove(a[0])\n",
        "  a.remove(a[l-2])\n",
        "  l=len(a)\n",
        "  return a[0],a[l-1]\n",
        "\n",
        "a=set(map(int, input().rstrip().split()))\n",
        "a=list(a)\n",
        "b=second(a)\n",
        "print(b)"
      ],
      "metadata": {
        "id": "Y496XtrqUoWu"
      },
      "execution_count": null,
      "outputs": []
    },
    {
      "cell_type": "markdown",
      "source": [
        "##### Given a list of numbers of list, write a Python program to create a list of tuples having first element as the number and second element as the square of the number"
      ],
      "metadata": {
        "id": "DhlbGsQ5gYqt"
      }
    },
    {
      "cell_type": "code",
      "source": [
        "a=[1,2,3,4,5,6]\n",
        "b=[]\n",
        "for i in range (len(a)) :\n",
        "  c=[]\n",
        "  c.append(a[i])\n",
        "  p=a[i]*a[i]\n",
        "  c.append(p)\n",
        "  c=tuple(c)\n",
        "  b.append(c)\n",
        "\n",
        "print(b)"
      ],
      "metadata": {
        "colab": {
          "base_uri": "https://localhost:8080/"
        },
        "id": "3gMMumEogjIr",
        "outputId": "3520d647-a272-48b1-f7ba-79024320ccb0"
      },
      "execution_count": null,
      "outputs": [
        {
          "output_type": "stream",
          "name": "stdout",
          "text": [
            "[(1, 1), (2, 4), (3, 9), (4, 16), (5, 25), (6, 36)]\n"
          ]
        }
      ]
    },
    {
      "cell_type": "markdown",
      "source": [
        "##### Given list of tuples, remove all the tuples with length K"
      ],
      "metadata": {
        "id": "JoWp-x9PiGrA"
      }
    },
    {
      "cell_type": "code",
      "source": [
        "test = [(4, 5), (4, ), (8, 6, 7), (1, ), (3, 4, 6, 7)]\n",
        "k=2\n",
        "l=len(test)\n",
        "for i in range (l) :\n",
        "  l=len(test)\n",
        "  a=test[i]\n",
        "  tl=len(a)\n",
        "  if tl==k :\n",
        "    del test[i]\n",
        "  if i==0 :\n",
        "    break\n",
        "\n",
        "print(test)"
      ],
      "metadata": {
        "id": "-JvFMBi43gvR"
      },
      "execution_count": null,
      "outputs": []
    },
    {
      "cell_type": "markdown",
      "source": [
        "##### Program to generate and print a dictionary that contains a number (between 1 and n) in the form (x, x*x). \n"
      ],
      "metadata": {
        "id": "1_Tm0dWikf1a"
      }
    },
    {
      "cell_type": "code",
      "source": [
        "n=int(input(\"Enter a number \"))\n",
        "a={}\n",
        "for i in range(n) :\n",
        "  k=(i+1)\n",
        "  v=k*k\n",
        "  a.update({k:v})\n",
        "\n",
        "a"
      ],
      "metadata": {
        "id": "np6U4zEfknHV"
      },
      "execution_count": null,
      "outputs": []
    },
    {
      "cell_type": "markdown",
      "source": [
        "##### Program to remove a key from a dictionary"
      ],
      "metadata": {
        "id": "_e2Bh7XtobBU"
      }
    },
    {
      "cell_type": "code",
      "source": [
        "tdict = {\n",
        "  \"brand\": \"Ford\",\n",
        "  \"model\": \"Mustang\",\n",
        "  \"year\": 1964\n",
        "}\n",
        "x=tdict.keys()\n",
        "print(\"Keys of this dictionary are : \" , end= \"\")\n",
        "print(x)\n",
        "\n",
        "x=input(\"Enter key to be removed \")\n",
        "tdict = {\n",
        "  \"brand\": \"Ford\",\n",
        "  \"model\": \"Mustang\",\n",
        "  \"year\": 1964\n",
        "}\n",
        "tdict.pop(x)\n",
        "tdict"
      ],
      "metadata": {
        "id": "QUXYVvhvov6-"
      },
      "execution_count": null,
      "outputs": []
    },
    {
      "cell_type": "markdown",
      "source": [
        "##### Program to get the maximum and minimum value in a dictionary"
      ],
      "metadata": {
        "id": "-FUkpzs1q3YC"
      }
    },
    {
      "cell_type": "code",
      "source": [
        "dic={}\n",
        "n=int(input(\"Enter number of keys to e entered \"))\n",
        "for i in range (n) :\n",
        "  k=input(\"enter key :\")\n",
        "  v=int(input(\"enter value :\"))\n",
        "  dic.update({k:v})\n",
        "x= list(dic.values())\n",
        "x.sort()\n",
        "print(x[0],x[len(x)-1])"
      ],
      "metadata": {
        "id": "E695nR6_q60q"
      },
      "execution_count": null,
      "outputs": []
    },
    {
      "cell_type": "markdown",
      "source": [
        "##### Program to perform operations on string using unicodes ,splitting of string,accessing elements of string using locations"
      ],
      "metadata": {
        "id": "63Q2M0LOUuWX"
      }
    },
    {
      "cell_type": "code",
      "source": [
        "a=input(\"Enter your string \")\n",
        "x=a.split()\n",
        "n=int(input(\"Enter your index number \"))\n",
        "y=a[n]\n",
        "print(f\"original string is {a}\\nsplitted string is {x}\\nindex number points to {y}\")"
      ],
      "metadata": {
        "id": "IzhKgyp1U1kV"
      },
      "execution_count": null,
      "outputs": []
    },
    {
      "cell_type": "markdown",
      "source": [
        "##### Program for Counting occurrence of a certain element in a string"
      ],
      "metadata": {
        "id": "Olwpg861WLBB"
      }
    },
    {
      "cell_type": "code",
      "source": [
        "a=input(\"Enter your string \")\n",
        "n=input(\"Enter element to be counted \")\n",
        "f=a.count(n)\n",
        "print(f\"{n} is repeated {f} times\")"
      ],
      "metadata": {
        "id": "wp4KVfIMWRbA"
      },
      "execution_count": null,
      "outputs": []
    },
    {
      "cell_type": "markdown",
      "source": [
        "##### Program for replacing one substring by another"
      ],
      "metadata": {
        "id": "3dIS_Z5dXEze"
      }
    },
    {
      "cell_type": "code",
      "source": [
        "a=input(\"Enter your string \")\n",
        "n=input(\"Enter substring to be replaced \")\n",
        "m=input(\"Enter replacing substring \")\n",
        "x=a.replace(n,m)\n",
        "print(f\"replaced string is {x}\")"
      ],
      "metadata": {
        "id": "cv3hh7BEXMRN"
      },
      "execution_count": null,
      "outputs": []
    },
    {
      "cell_type": "markdown",
      "source": [
        "##### Program to Acronym generator for any user input (ex-input is Random memory access then output should be RMA).Example - Random number (RN)"
      ],
      "metadata": {
        "id": "cECQucTOqgCN"
      }
    },
    {
      "cell_type": "code",
      "source": [
        "a=list(map(str, input().rstrip().split()))\n",
        "d=[]\n",
        "for i in range(len(a)) :\n",
        "  b=a[i]\n",
        "  c=b[0]\n",
        "  c=c.upper()\n",
        "  d.append(c)\n",
        "\n",
        "for i in range (len(d)) :\n",
        "  print(d[i] , end =\"\")"
      ],
      "metadata": {
        "id": "h3j_lMWqqjQs"
      },
      "execution_count": null,
      "outputs": []
    },
    {
      "cell_type": "markdown",
      "source": [
        "##### Program to count the number of strings where the string length is 2 or more and the first and last character are same from a given list of strings"
      ],
      "metadata": {
        "id": "RtRhUCoVZrY0"
      }
    },
    {
      "cell_type": "code",
      "source": [
        "a=list(map(str, input().rstrip().rsplit()))\n",
        "s=0\n",
        "for i in a :\n",
        "  l=len(i)\n",
        "  if i[0]==i[l-1] and l>2:\n",
        "    s+=1\n",
        "\n",
        "print(s)"
      ],
      "metadata": {
        "id": "T0mVAyoGZ3ma"
      },
      "execution_count": null,
      "outputs": []
    }
  ]
}