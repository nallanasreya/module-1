{
  "nbformat": 4,
  "nbformat_minor": 0,
  "metadata": {
    "colab": {
      "name": "functionzzz.ipynb",
      "provenance": [],
      "include_colab_link": true
    },
    "kernelspec": {
      "name": "python3",
      "display_name": "Python 3"
    },
    "language_info": {
      "name": "python"
    }
  },
  "cells": [
    {
      "cell_type": "markdown",
      "metadata": {
        "id": "view-in-github",
        "colab_type": "text"
      },
      "source": [
        "<a href=\"https://colab.research.google.com/github/nallanasreya/pythonnew/blob/module1/functionzzz.ipynb\" target=\"_parent\"><img src=\"https://colab.research.google.com/assets/colab-badge.svg\" alt=\"Open In Colab\"/></a>"
      ]
    },
    {
      "cell_type": "code",
      "execution_count": null,
      "metadata": {
        "colab": {
          "base_uri": "https://localhost:8080/"
        },
        "id": "7iODZNYlWZEG",
        "outputId": "63c0c19e-0389-4a74-fb12-41d1c8f4857d"
      },
      "outputs": [
        {
          "output_type": "stream",
          "name": "stdout",
          "text": [
            "om\n",
            "om//sri\n",
            "sri//kk\n",
            "kk//ghf\n",
            "ghf//hgf\n",
            "hgf//"
          ]
        }
      ],
      "source": [
        "def hello(a) :\n",
        "  print(a,end=\"//\")\n",
        "def hi(b) :\n",
        "    print(b)\n",
        "\n",
        "for _ in range (5):\n",
        "  hello(input())"
      ]
    },
    {
      "cell_type": "code",
      "source": [
        "def vote(n,a,g) :\n",
        "  print(f\"\\n\\nVoter details :- \\n\\nName of voter : {n}\\nage of voter : {a}\\ngender of voter : {g}\")\n",
        "  if a>=18 :\n",
        "    print(f\"{n} is elgible for voting\")\n",
        "  else :\n",
        "    print(f\"{n} is not elgible for voting\")\n",
        "\n",
        "vote(input(\"Enter name \"),int(input(\"Enter age \")),input(\"Enter gender \"))"
      ],
      "metadata": {
        "colab": {
          "base_uri": "https://localhost:8080/"
        },
        "id": "3_T2fr1zems6",
        "outputId": "5276d454-b1ed-4eb3-e66d-55637094b746"
      },
      "execution_count": null,
      "outputs": [
        {
          "output_type": "stream",
          "name": "stdout",
          "text": [
            "Enter name om\n",
            "Enter age 18\n",
            "Enter gender 5\n",
            "\n",
            "\n",
            "Voter details :- \n",
            "\n",
            "Name of voter : om\n",
            "age of voter : 18\n",
            "gender of voter : 5\n",
            "om is elgible for voting\n"
          ]
        }
      ]
    },
    {
      "cell_type": "code",
      "source": [
        "def vote(n,a,g) :\n",
        "  print(f\"\\n\\nVoter details :- \\n\\nName of voter : {n}\\nage of voter : {a}\\ngender of voter : {g}\")\n",
        "  print(f\"{n} is elgible for voting\") if a>=18 else print(f\"{n} is not elgible for voting\")\n",
        "\n",
        "vote(input(\"Enter name \"),int(input(\"Enter age \")),input(\"Enter gender \"))"
      ],
      "metadata": {
        "colab": {
          "base_uri": "https://localhost:8080/"
        },
        "id": "NoHTzDuyhmPR",
        "outputId": "01f4e8f2-d999-49a4-baf2-4216207dc142"
      },
      "execution_count": null,
      "outputs": [
        {
          "output_type": "stream",
          "name": "stdout",
          "text": [
            "Enter name om\n",
            "Enter age 18\n",
            "Enter gender m\n",
            "\n",
            "\n",
            "Voter details :- \n",
            "\n",
            "Name of voter : om\n",
            "age of voter : 18\n",
            "gender of voter : m\n",
            "om is elgible for voting\n"
          ]
        }
      ]
    }
  ]
}