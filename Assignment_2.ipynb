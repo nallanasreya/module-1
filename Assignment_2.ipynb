{
  "nbformat": 4,
  "nbformat_minor": 0,
  "metadata": {
    "colab": {
      "name": "Assignment-2.ipynb",
      "provenance": [],
      "collapsed_sections": [],
      "include_colab_link": true
    },
    "kernelspec": {
      "name": "python3",
      "display_name": "Python 3"
    },
    "language_info": {
      "name": "python"
    }
  },
  "cells": [
    {
      "cell_type": "markdown",
      "metadata": {
        "id": "view-in-github",
        "colab_type": "text"
      },
      "source": [
        "<a href=\"https://colab.research.google.com/github/nallanasreya/pythonnew/blob/module2/Assignment_2.ipynb\" target=\"_parent\"><img src=\"https://colab.research.google.com/assets/colab-badge.svg\" alt=\"Open In Colab\"/></a>"
      ]
    },
    {
      "cell_type": "code",
      "execution_count": null,
      "metadata": {
        "colab": {
          "base_uri": "https://localhost:8080/"
        },
        "id": "yUGLpxL40LX-",
        "outputId": "936a8ea8-72c2-499a-da28-f3ae6ad04e75"
      },
      "outputs": [
        {
          "output_type": "stream",
          "name": "stdout",
          "text": [
            "value of n: 5\n",
            "value of r: 2\n",
            "Factorial of 5 is 120\n",
            "Factorial of 2 is 2\n",
            "Factorial of 3 is 6\n",
            "required combination(nCr) is 10.0\n"
          ]
        }
      ],
      "source": [
        "#Create a function which accepts two inputs from the user and compute nCr\n",
        "n=int(input(\"value of n: \"))\n",
        "r=int(input(\"value of r: \"))\n",
        "f=1\n",
        "for x in range(1,n+1):\n",
        "  f=f*x  \n",
        "print(\"Factorial of\" ,n,\"is\", f)\n",
        "g=1\n",
        "for x in range(1,r+1):\n",
        "  g=g*x\n",
        "print(\"Factorial of\" ,r,\"is\", g)   \n",
        "h=1\n",
        "for x in range(1,n-r+1):\n",
        "  h=h*x\n",
        "print(\"Factorial of\" ,n-r,\"is\", h)\n",
        "print(\"required combination(nCr) is\" ,f/(g*h))"
      ]
    },
    {
      "cell_type": "code",
      "source": [
        "#Program to print a specified list after removing the 0th, 4th and 5th elements.\n",
        "#Sample List : ['Red', 'Green', 'White', 'Black', 'Pink', 'Yellow']\n",
        "#Expected Output : ['Green', 'White', 'Black']\n",
        "a=['Red', 'Green', 'White', 'Black', 'Pink', 'Yellow']\n",
        "a.remove(\"Red\")\n",
        "a.remove(\"Pink\")\n",
        "a.remove(\"Yellow\")\n",
        "print(a)"
      ],
      "metadata": {
        "colab": {
          "base_uri": "https://localhost:8080/"
        },
        "id": "GzXHbrNH_FdL",
        "outputId": "75198e43-e18b-4728-f094-728b5bc94693"
      },
      "execution_count": null,
      "outputs": [
        {
          "output_type": "stream",
          "name": "stdout",
          "text": [
            "['Green', 'White', 'Black']\n"
          ]
        }
      ]
    },
    {
      "cell_type": "code",
      "source": [
        "#Program to get the difference between the two lists.\n",
        "def Diff(a,b):\n",
        "  d= list(set(a)-set(b))+list(set(b)-set(a)) #[i for i in a+b if i not in a or i not in b]\n",
        "  return d\n",
        "a=['10','2','3','4','5','6','7','8','9']\n",
        "b=['1','2','37','4','5','6','7','8']  \n",
        "c=Diff(a,b)\n",
        "print(c)"
      ],
      "metadata": {
        "colab": {
          "base_uri": "https://localhost:8080/"
        },
        "id": "pNChIbLZBlFx",
        "outputId": "50f4f3da-4429-405f-d0e2-6e0d5596e559"
      },
      "execution_count": null,
      "outputs": [
        {
          "output_type": "stream",
          "name": "stdout",
          "text": [
            "['3', '10', '9', '37', '1']\n"
          ]
        }
      ]
    },
    {
      "cell_type": "code",
      "source": [
        "#Program to find the second smallest number and second largest number in a list\n",
        "a=['10','1','89','46','74','12','63','33','99']\n",
        "a.sort()\n",
        "print(a)\n",
        "print(\"second largest number\" , a[len(a)-2])\n",
        "print(\"second smallest number\",a[1])"
      ],
      "metadata": {
        "colab": {
          "base_uri": "https://localhost:8080/"
        },
        "id": "2UGUOXbMFlG4",
        "outputId": "72faaba6-33f5-4f6a-a173-bbfe5762061c"
      },
      "execution_count": null,
      "outputs": [
        {
          "output_type": "stream",
          "name": "stdout",
          "text": [
            "['1', '10', '12', '33', '46', '63', '74', '89', '99']\n",
            "second largest number 89\n",
            "second smallest number 10\n"
          ]
        }
      ]
    },
    {
      "cell_type": "code",
      "source": [
        "#Given a list of numbers of list, write a Python program to create a list of tuples\n",
        "#having first element as the number and second element as the square of the number.\n",
        "a=[1,4,67,8]\n",
        "b=[(x,pow(x,2)) for x in a]\n",
        "print(b)"
      ],
      "metadata": {
        "colab": {
          "base_uri": "https://localhost:8080/"
        },
        "id": "zcq5XFu5LSbV",
        "outputId": "f7069bd7-9b52-45a7-f997-ce4d03210a0f"
      },
      "execution_count": null,
      "outputs": [
        {
          "output_type": "stream",
          "name": "stdout",
          "text": [
            "[(1, 1), (4, 16), (67, 4489), (8, 64)]\n"
          ]
        }
      ]
    },
    {
      "cell_type": "code",
      "source": [
        "#Given list of tuples, remove all the tuples with length K.\n",
        "#Input : test_list = [(4, 5), (4, ), (8, 6, 7), (1, ), (3, 4, 6, 7)], K = 2\n",
        "#Output : [(4, ), (8, 6, 7), (1, ), (3, 4, 6, 7)]\n",
        "#Explanation : (4, 5) of len = 2 is removed.\n",
        "test_list = [(4, 5), (4, ), (8, 6, 7), (1, ), (3, 4, 6, 7)]\n",
        "k=int(input())\n",
        "o=[x for x in test_list if len(x)!=k]\n",
        "print(o)"
      ],
      "metadata": {
        "colab": {
          "base_uri": "https://localhost:8080/"
        },
        "id": "7DnDLW2cnRyI",
        "outputId": "793c2516-b61a-41d4-8c56-8bea19a68af0"
      },
      "execution_count": null,
      "outputs": [
        {
          "output_type": "stream",
          "name": "stdout",
          "text": [
            "4\n",
            "[(4, 5), (4,), (8, 6, 7), (1,)]\n"
          ]
        }
      ]
    },
    {
      "cell_type": "code",
      "source": [
        "#Program to generate and print a dictionary that contains a number (between 1 and n) in the form (x, x*x).\n",
        "#Sample Input: (n=5) :\n",
        "#Expected Output : {1: 1, 2: 4, 3: 9, 4: 16, 5: 25}\n",
        "def sq():\n",
        "  n=int(input())\n",
        "  d=dict()\n",
        "  for x in range(1,n+1):\n",
        "    d[x]=x*x\n",
        "  print(d)\n",
        "sq()"
      ],
      "metadata": {
        "id": "naxobAlzyZ97",
        "colab": {
          "base_uri": "https://localhost:8080/"
        },
        "outputId": "fb36fe25-3ad4-4e77-b6d2-9e179fea7952"
      },
      "execution_count": null,
      "outputs": [
        {
          "output_type": "stream",
          "name": "stdout",
          "text": [
            "5\n",
            "{1: 1, 2: 4, 3: 9, 4: 16, 5: 25}\n"
          ]
        }
      ]
    },
    {
      "cell_type": "code",
      "source": [
        "#Program to remove a key from a dictionary\n",
        "def remove_key():\n",
        "  d = {'a':1,'b':2,'c':3,'d':4}\n",
        "  r=d.pop(str(input(\"enter key to remove: \")))\n",
        "  print(d)\n",
        "remove_key()  "
      ],
      "metadata": {
        "colab": {
          "base_uri": "https://localhost:8080/"
        },
        "id": "doVUctTzTT26",
        "outputId": "a57a1316-ae62-4ab7-8210-3f13440e0159"
      },
      "execution_count": null,
      "outputs": [
        {
          "output_type": "stream",
          "name": "stdout",
          "text": [
            "enter key to remove: a\n",
            "{'b': 2, 'c': 3, 'd': 4}\n"
          ]
        }
      ]
    },
    {
      "cell_type": "code",
      "source": [
        "#Program to get the maximum and minimum value in a dictionary\n",
        "def marks():\n",
        "  M={'maths':92,'chemistry':85,'beee':76}\n",
        "  maximum=max(M)\n",
        "  minimum=min(M)\n",
        "  print(maximum)\n",
        "  print(minimum)\n",
        "marks()  "
      ],
      "metadata": {
        "id": "RZA6O4jmU7Jc",
        "colab": {
          "base_uri": "https://localhost:8080/"
        },
        "outputId": "85dd2ead-0818-48a4-c5ba-3b01a8e345d3"
      },
      "execution_count": null,
      "outputs": [
        {
          "output_type": "stream",
          "name": "stdout",
          "text": [
            "maths\n",
            "beee\n"
          ]
        }
      ]
    },
    {
      "cell_type": "code",
      "source": [
        "#Program for Counting occurrence of a certain element in a string, getting indexes that\n",
        "#have matching elements.For ex -.In Rabbit count how many times b has occurred\n",
        "def strcount():\n",
        "  ex=\"Rabbit\"\n",
        "  count=0\n",
        "  for i in ex:\n",
        "    if i == 'b':\n",
        "      count=count+1\n",
        "  print(\"b occurs:\", str(count),\"times\")\n",
        "strcount()      "
      ],
      "metadata": {
        "colab": {
          "base_uri": "https://localhost:8080/"
        },
        "id": "FPM17L7s8izQ",
        "outputId": "46e02600-01fd-48ad-aad7-309f1a027ada"
      },
      "execution_count": null,
      "outputs": [
        {
          "output_type": "stream",
          "name": "stdout",
          "text": [
            "b occurs: 2 times\n"
          ]
        }
      ]
    },
    {
      "cell_type": "code",
      "source": [
        "#Program for replacing one substring by another For example - Rabbit - Replace 'bb' by 'cc'\n",
        "def replace():\n",
        "  ex=str(input(\"enter a string: \"))\n",
        "  a=str(input(\"enter string to be replaced: \"))\n",
        "  b=str(input(\"enter string to be replaced with: \"))\n",
        "  print(\"String after replacing: \", ex.replace(a,b))\n",
        "replace() "
      ],
      "metadata": {
        "colab": {
          "base_uri": "https://localhost:8080/"
        },
        "id": "Lm0u25iKukxc",
        "outputId": "914a603b-3601-4830-dbb8-4598b0b07093"
      },
      "execution_count": null,
      "outputs": [
        {
          "output_type": "stream",
          "name": "stdout",
          "text": [
            "enter a string: Rabbit\n",
            "enter string to be replaced: bb\n",
            "enter string to be replaced with: cc\n",
            "String after replacing:  Raccit\n"
          ]
        }
      ]
    },
    {
      "cell_type": "code",
      "source": [
        "#Python function that accepts a string and calculates the number of uppercase letters and lowercase letters.\n",
        "def accept():\n",
        "  ex=str(input(\"enter a string: \"))\n",
        "  upper=0\n",
        "  lower=0\n",
        "  for x in len(ex):\n",
        "    if \n"
      ],
      "metadata": {
        "id": "AOW7w-tW2tAv"
      },
      "execution_count": null,
      "outputs": []
    },
    {
      "cell_type": "code",
      "source": [
        "#Program to count the number of strings where the string length is 2 or more and\n",
        "#the first and last character are same from a given list of strings \n",
        "a=['abc', 'xyz', 'aba', '1221'] \n",
        "count=0\n",
        "for x in a:\n",
        "  if len(x) > 2:\n",
        "    count=count+1\n",
        "    print(x)\n",
        "    "
      ],
      "metadata": {
        "colab": {
          "base_uri": "https://localhost:8080/"
        },
        "id": "HXWWyxNP56dY",
        "outputId": "a1215bd3-0745-4a5c-808d-b15f792b6c7a"
      },
      "execution_count": null,
      "outputs": [
        {
          "output_type": "stream",
          "name": "stdout",
          "text": [
            "abc\n",
            "xyz\n",
            "aba\n",
            "1221\n"
          ]
        }
      ]
    }
  ]
}