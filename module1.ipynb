{
  "nbformat": 4,
  "nbformat_minor": 0,
  "metadata": {
    "colab": {
      "name": "module1.ipynb",
      "provenance": [],
      "include_colab_link": true
    },
    "kernelspec": {
      "name": "python3",
      "display_name": "Python 3"
    },
    "language_info": {
      "name": "python"
    }
  },
  "cells": [
    {
      "cell_type": "markdown",
      "metadata": {
        "id": "view-in-github",
        "colab_type": "text"
      },
      "source": [
        "<a href=\"https://colab.research.google.com/github/nallanasreya/module-1/blob/module1/module1.ipynb\" target=\"_parent\"><img src=\"https://colab.research.google.com/assets/colab-badge.svg\" alt=\"Open In Colab\"/></a>"
      ]
    },
    {
      "cell_type": "markdown",
      "source": [
        "###x Accept input from user and store it in variable and print the value"
      ],
      "metadata": {
        "id": "t1DBewqGWVQP"
      }
    },
    {
      "cell_type": "code",
      "source": [
        "x=\"sreya\"\n",
        "y=18\n",
        "print(x,y)"
      ],
      "metadata": {
        "id": "kmWvj1TjWcS3",
        "colab": {
          "base_uri": "https://localhost:8080/"
        },
        "outputId": "f4ebf60c-8245-4f51-e0de-b9e0a8f1e1a9"
      },
      "execution_count": null,
      "outputs": [
        {
          "output_type": "stream",
          "name": "stdout",
          "text": [
            "sreya 18\n"
          ]
        }
      ]
    },
    {
      "cell_type": "markdown",
      "source": [
        "###Use of print statements and use of (.format )for printing different data types"
      ],
      "metadata": {
        "id": "epq2E-n0XEuP"
      }
    },
    {
      "cell_type": "code",
      "source": [
        "a='sreya'\n",
        "b=18\n",
        "print(\"{} age is {}.format(a,b\")\n"
      ],
      "metadata": {
        "id": "r0WgwXw0XK8-",
        "colab": {
          "base_uri": "https://localhost:8080/"
        },
        "outputId": "5e01825e-caca-4779-f527-5e9cc54d0ecb"
      },
      "execution_count": null,
      "outputs": [
        {
          "output_type": "stream",
          "name": "stdout",
          "text": [
            "{} age is {}.format(a,b\n"
          ]
        }
      ]
    },
    {
      "cell_type": "markdown",
      "source": [
        "###x Take 2 numbers as user input and add, multiply, divide, subtract, remainder and print the output (Same operations on floating point input as well)"
      ],
      "metadata": {
        "id": "IzYDXcGeYFKG"
      }
    },
    {
      "cell_type": "code",
      "source": [
        "a=int(input(\"enter a number\"))\n",
        "b=int(input(\"enter a number\"))\n",
        "print(a+b)\n",
        "print(a-b)\n",
        "print(a*b)\n",
        "print(a/b)\n",
        "print(a%b)\n"
      ],
      "metadata": {
        "id": "gjIJGtuJYXnu",
        "colab": {
          "base_uri": "https://localhost:8080/"
        },
        "outputId": "00222d2b-00b9-4534-81ed-9baec915fe6d"
      },
      "execution_count": null,
      "outputs": [
        {
          "output_type": "stream",
          "name": "stdout",
          "text": [
            "enter a number7\n",
            "enter a number9\n",
            "16\n",
            "-2\n",
            "63\n",
            "0.7777777777777778\n",
            "7\n"
          ]
        }
      ]
    },
    {
      "cell_type": "markdown",
      "source": [
        "##Conversion of one unit to another (such as hours to minutes, miles to km and etc)"
      ],
      "metadata": {
        "id": "QeMqoqaLcpvh"
      }
    },
    {
      "cell_type": "code",
      "source": [
        "hour=int(input(\"enter hour\"))\n",
        "minutes=hour*60\n",
        "print(minutes)"
      ],
      "metadata": {
        "colab": {
          "base_uri": "https://localhost:8080/"
        },
        "id": "RcVn131Ecs6I",
        "outputId": "0f984083-cf9a-4b85-f0ed-323f59b1fe9b"
      },
      "execution_count": null,
      "outputs": [
        {
          "output_type": "stream",
          "name": "stdout",
          "text": [
            "enter hour5\n",
            "300\n"
          ]
        }
      ]
    },
    {
      "cell_type": "code",
      "source": [
        "mile=int(input(\"enter mile\"))\n",
        "km=mile*1.6\n",
        "print(km)"
      ],
      "metadata": {
        "colab": {
          "base_uri": "https://localhost:8080/"
        },
        "id": "Yp93pVogziGQ",
        "outputId": "444e0a62-010a-4a5f-a581-a1631b037ae1"
      },
      "execution_count": null,
      "outputs": [
        {
          "output_type": "stream",
          "name": "stdout",
          "text": [
            "enter mile65\n",
            "104.0\n"
          ]
        }
      ]
    },
    {
      "cell_type": "markdown",
      "source": [
        "###Usage of mathematical functions in python like math.ceil, floor, fabs, fmod, trunc,pow, sqrt etc"
      ],
      "metadata": {
        "id": "B0mJXyIudfAQ"
      }
    },
    {
      "cell_type": "code",
      "source": [
        "import math\n",
        "a=int(input(\"enter an number\"))\n",
        "b=int(input(\"enter another number\"))\n",
        "print(math.ceil(a))\n",
        "print(math.floor(a))\n",
        "print(math.fabs(a))\n",
        "print(math.fmod(a,b))\n",
        "print(math.trunc(a))\n",
        "print(math.pow(a,b))\n",
        "print(math.sqrt(a))"
      ],
      "metadata": {
        "colab": {
          "base_uri": "https://localhost:8080/"
        },
        "id": "-nO3e38_eHZ5",
        "outputId": "f175eabe-817d-4b2b-9200-48079051f6d5"
      },
      "execution_count": null,
      "outputs": [
        {
          "output_type": "stream",
          "name": "stdout",
          "text": [
            "enter an number8\n",
            "enter another number4\n",
            "8\n",
            "8\n",
            "8.0\n",
            "0.0\n",
            "8\n",
            "4096.0\n",
            "2.8284271247461903\n"
          ]
        }
      ]
    },
    {
      "cell_type": "markdown",
      "source": [
        "###Building a mathematical calculator that can perform operations according to user input.Use decision making statement."
      ],
      "metadata": {
        "id": "RMJDOSMWeVIw"
      }
    },
    {
      "cell_type": "code",
      "source": [
        "a= int(input(\"Enter First Number: \"))\n",
        "b= int(input(\"Enter Second Number: \"))\n",
        "ch=(input(\"enter operation\"))\n",
        "if ch == '+':\n",
        "  print(a+b)\n",
        "elif ch == '-':\n",
        "  print(a-b)\n",
        "elif ch == '*':\n",
        "  print(a*b)\n",
        "elif ch == '/':\n",
        "  print(a/b)\n",
        "elif ch == '%':\n",
        "  print(a%b)\n",
        "else:\n",
        "  print(\"Input character is not recognized!\")"
      ],
      "metadata": {
        "colab": {
          "base_uri": "https://localhost:8080/"
        },
        "id": "QoEkXShAeaXS",
        "outputId": "578ea158-7da0-43af-8f9a-6f6dc5d1519d"
      },
      "execution_count": null,
      "outputs": [
        {
          "output_type": "stream",
          "name": "stdout",
          "text": [
            "Enter First Number: 8\n",
            "Enter Second Number: 4\n",
            "enter operation%\n",
            "0\n"
          ]
        }
      ]
    },
    {
      "cell_type": "markdown",
      "source": [
        "###Accepting 5 different subject marks from user and displaying the grade of the student"
      ],
      "metadata": {
        "id": "MguSYeRje8YB"
      }
    },
    {
      "cell_type": "code",
      "source": [
        "a=int(input())\n",
        "b=int(input())\n",
        "c=int(input())\n",
        "d=int(input())\n",
        "e=int(input())\n",
        "t=(a+b+c+d+e)/5\n",
        "if(t<=100 and t>=85):\n",
        "  print(\"A grade\")\n",
        "elif(t<=84and t>=70):\n",
        "  print(\"B grade\")\n",
        "elif(t<=69and t>=55):\n",
        "  print(\"C grade\")\n",
        "elif(t<=54and t>=45):\n",
        "  print(\"D grade\")\n",
        "else:\n",
        "  print(\"FAIL\")\n"
      ],
      "metadata": {
        "colab": {
          "base_uri": "https://localhost:8080/"
        },
        "id": "2rQhCb9cfKqp",
        "outputId": "d4465a6a-93be-43eb-defa-02001925d0cf"
      },
      "execution_count": null,
      "outputs": [
        {
          "output_type": "stream",
          "name": "stdout",
          "text": [
            "78\n",
            "98\n",
            "67\n",
            "89\n",
            "90\n",
            "FAIL\n"
          ]
        }
      ]
    },
    {
      "cell_type": "markdown",
      "source": [
        "###Printing all even numbers, odd numbers, count of even numbers, count of odd numberswithin a given range."
      ],
      "metadata": {
        "id": "7dJv9bBshJmq"
      }
    },
    {
      "cell_type": "code",
      "source": [
        "evecount=0\n",
        "for i in range(1,101):\n",
        "  if(i%2==0):\n",
        "    evecount=evecount+1\n",
        "    print(i)\n",
        "print(evecount)"
      ],
      "metadata": {
        "id": "JCM80BDJj8g5"
      },
      "execution_count": null,
      "outputs": []
    },
    {
      "cell_type": "code",
      "source": [
        "oddcount=0\n",
        "for i in range(1,101):\n",
        "  if(i%2!=0):\n",
        "    oddcount=oddcount+1\n",
        "    print(i)\n",
        "print(oddcount)"
      ],
      "metadata": {
        "id": "KPUHUhtTlZPp"
      },
      "execution_count": null,
      "outputs": []
    },
    {
      "cell_type": "markdown",
      "source": [
        "###Compute the factorial of a given number."
      ],
      "metadata": {
        "id": "9UwVp-fLlv6L"
      }
    },
    {
      "cell_type": "code",
      "source": [
        "a=int(input())\n",
        "f=1\n",
        "if(a>1):\n",
        "  for i in range (1,a+1):\n",
        "    f=f*i\n",
        "print(f)"
      ],
      "metadata": {
        "colab": {
          "base_uri": "https://localhost:8080/"
        },
        "id": "6y3OqcL1l0mh",
        "outputId": "d990aef1-c9eb-4fff-ee4d-61c3a06676b5"
      },
      "execution_count": null,
      "outputs": [
        {
          "output_type": "stream",
          "name": "stdout",
          "text": [
            "4\n",
            "24\n"
          ]
        }
      ]
    },
    {
      "cell_type": "markdown",
      "source": [
        "#### Compute GCD of two given numbers."
      ],
      "metadata": {
        "id": "YQa20bTYoCKK"
      }
    },
    {
      "cell_type": "code",
      "source": [
        "\n",
        "def gcd(a,b):\n",
        "  hcf=1\n",
        "  for i in range (1,b+1):\n",
        "    if (a%i==0)and (b%i==0):\n",
        "      hcf=hcf*i\n",
        "  return hcf\n",
        "a=int(input())\n",
        "b=int(input())\n",
        "print(gcd(a,b))\n",
        "\n"
      ],
      "metadata": {
        "id": "MsOxkUJSoHsa"
      },
      "execution_count": null,
      "outputs": []
    },
    {
      "cell_type": "markdown",
      "source": [
        "####Generate Fibonacci series up to N numbers"
      ],
      "metadata": {
        "id": "72_rzRJCsAqb"
      }
    },
    {
      "cell_type": "code",
      "source": [
        "n=int(input())\n",
        "a,b= 0, 1\n",
        "print(a,b)\n",
        "for i in range(2,n):\n",
        "    c=a+b\n",
        "    a=b\n",
        "    b=c\n",
        "    print(c)"
      ],
      "metadata": {
        "colab": {
          "base_uri": "https://localhost:8080/"
        },
        "id": "47Xb7hBusHwx",
        "outputId": "4e8f4fc8-2f3d-4f02-8cdd-cf38c5904bdf"
      },
      "execution_count": null,
      "outputs": [
        {
          "output_type": "stream",
          "name": "stdout",
          "text": [
            "5\n",
            "0 1\n",
            "1\n",
            "2\n",
            "3\n"
          ]
        }
      ]
    },
    {
      "cell_type": "markdown",
      "source": [
        "###Check whether the given input is palindrome"
      ],
      "metadata": {
        "id": "TXtACGrUtHrJ"
      }
    },
    {
      "cell_type": "code",
      "source": [
        "a=int(input())\n",
        "t=a\n",
        "rev=0\n",
        "while a!=0:\n",
        "  a=a%10\n",
        "  rev=rev*10+a\n",
        "  a=a/10\n",
        "if(t==rev):\n",
        "  print(\"palindrome\")\n",
        "else:\n",
        "  print(\"not palindrome\")"
      ],
      "metadata": {
        "colab": {
          "base_uri": "https://localhost:8080/"
        },
        "id": "IaBa4wF_u8_h",
        "outputId": "a38d24a5-6916-4a6f-d935-1615919b81cb"
      },
      "execution_count": null,
      "outputs": [
        {
          "output_type": "stream",
          "name": "stdout",
          "text": [
            "56\n",
            "not palindrome\n"
          ]
        }
      ]
    },
    {
      "cell_type": "markdown",
      "source": [
        "######Check whether the given input is strong"
      ],
      "metadata": {
        "id": "wrSNuKGNyALJ"
      }
    },
    {
      "cell_type": "code",
      "source": [
        "n=int(input())\n",
        "s=0\n",
        "t=n\n",
        "f=1\n",
        "while(n>0):\n",
        "    i = 1\n",
        "    r=n%10\n",
        "    while(i<=r):\n",
        "        f=f*i\n",
        "        i=i+1\n",
        "    s=s+f\n",
        "    n=n/10\n",
        "if (s==t):\n",
        "    print('strong number')\n",
        "else:\n",
        "    print('not strong number')"
      ],
      "metadata": {
        "colab": {
          "base_uri": "https://localhost:8080/"
        },
        "id": "iPQnsv_GyFNy",
        "outputId": "69a58bb3-1836-4f81-dfdd-d87c3e33e2f0"
      },
      "execution_count": null,
      "outputs": [
        {
          "output_type": "stream",
          "name": "stdout",
          "text": [
            "145\n",
            "not strong number\n"
          ]
        }
      ]
    },
    {
      "cell_type": "markdown",
      "source": [
        "######Check whether the given input is perfect"
      ],
      "metadata": {
        "id": "LlNACeX9yFhx"
      }
    },
    {
      "cell_type": "code",
      "source": [
        "a=int(input())\n",
        "sum=0\n",
        "for i in range(1,a):\n",
        "  if i%a==0:\n",
        "    sum=sum+i\n",
        "if(sum==a):\n",
        "  print(\"perfect number\")\n",
        "else:\n",
        "  print(\"perfect number\")"
      ],
      "metadata": {
        "colab": {
          "base_uri": "https://localhost:8080/"
        },
        "id": "uzLnFG8cyIhx",
        "outputId": "accbee1f-e277-44c6-c34c-b85fa9c330aa"
      },
      "execution_count": null,
      "outputs": [
        {
          "output_type": "stream",
          "name": "stdout",
          "text": [
            "6\n",
            "perfect number\n"
          ]
        }
      ]
    },
    {
      "cell_type": "markdown",
      "source": [
        "###Compute compound interest using loop for a certain principal and interest amount"
      ],
      "metadata": {
        "id": "_FYhHtKn2uNC"
      }
    },
    {
      "cell_type": "code",
      "source": [
        "p=int(input())\n",
        "r=int(input())\n",
        "t=int(input())\n",
        "for i in range(t):\n",
        "  p=p+((p*r)/100)\n",
        "print(p)"
      ],
      "metadata": {
        "colab": {
          "base_uri": "https://localhost:8080/"
        },
        "id": "1wITQhwY2vjh",
        "outputId": "1574bcca-f063-497c-8654-0850b65f1a5e"
      },
      "execution_count": null,
      "outputs": [
        {
          "output_type": "stream",
          "name": "stdout",
          "text": [
            "100\n",
            "2\n",
            "2\n",
            "104.04\n"
          ]
        }
      ]
    }
  ]
}