{
  "nbformat": 4,
  "nbformat_minor": 0,
  "metadata": {
    "colab": {
      "name": "assignment3.ipynb",
      "provenance": [],
      "collapsed_sections": [],
      "include_colab_link": true
    },
    "kernelspec": {
      "name": "python3",
      "display_name": "Python 3"
    },
    "language_info": {
      "name": "python"
    }
  },
  "cells": [
    {
      "cell_type": "markdown",
      "metadata": {
        "id": "view-in-github",
        "colab_type": "text"
      },
      "source": [
        "<a href=\"https://colab.research.google.com/github/nallanasreya/pythonnew/blob/module3/assignment3.ipynb\" target=\"_parent\"><img src=\"https://colab.research.google.com/assets/colab-badge.svg\" alt=\"Open In Colab\"/></a>"
      ]
    },
    {
      "cell_type": "code",
      "execution_count": null,
      "metadata": {
        "id": "dGGzmM_5bJOU"
      },
      "outputs": [],
      "source": [
        "#WAP to print prime numbers in a given range using functions,range-(25,50)\n",
        "def prime(a,b):\n",
        "  for x in range(a,b+1):\n",
        "    k=0\n",
        "    for y in range(2,x):\n",
        "      if x%y==0:\n",
        "        k+=1\n",
        "    if k==0:\n",
        "      print(x)\n",
        "num1=int(input())\n",
        "num2=int(input())       \n",
        "prime(num1,num2)      \n",
        "# \n",
        "def prime():\n",
        "  num1=int(input())\n",
        "  num2=int(input())\n",
        "  for x in range(num1,num2+1):\n",
        "    if(x>1):\n",
        "      for i in range(2,x):\n",
        "        if(x%i==0):\n",
        "          break\n",
        "      else:\n",
        "        print(x)\n",
        "prime()            "
      ]
    },
    {
      "cell_type": "code",
      "source": [
        "#WAP to read any month in integer and display days for that month\n",
        "month=[1,3,5,7,8,10,12]\n",
        "a=int(input())\n",
        "if a in month:\n",
        "  print(\"31 days\")\n",
        "elif a==2:\n",
        "  print(\"28 or 29 days\")\n",
        "elif a>12 or a<1:\n",
        "  print(\"incorrect\")  \n",
        "else:\n",
        "  print(\"30 days \")    "
      ],
      "metadata": {
        "colab": {
          "base_uri": "https://localhost:8080/"
        },
        "id": "egjJYDh_biv2",
        "outputId": "cf791885-11fc-45cf-c2e4-a8accc4f0c51"
      },
      "execution_count": null,
      "outputs": [
        {
          "output_type": "stream",
          "name": "stdout",
          "text": [
            "4\n",
            "30 days \n"
          ]
        }
      ]
    },
    {
      "cell_type": "code",
      "source": [
        "#WAP to print even length of words in a string\n",
        "a=str(input(\"enter a string : \"))\n",
        "a=a.split()\n",
        "print(a)\n",
        "for x in a:\n",
        "  if len(x)%2==0:\n",
        "    print(x,end=\" \")"
      ],
      "metadata": {
        "colab": {
          "base_uri": "https://localhost:8080/"
        },
        "id": "LvBQq_TNbuDX",
        "outputId": "e988fd27-a016-4c45-b4bf-35d5818ba656"
      },
      "execution_count": null,
      "outputs": [
        {
          "output_type": "stream",
          "name": "stdout",
          "text": [
            "enter a string : i am madhav\n",
            "['i', 'am', 'madhav']\n",
            "am madhav "
          ]
        }
      ]
    },
    {
      "cell_type": "code",
      "source": [
        "#WAP to capitalise the first letter and last letter of each word\n",
        "a=input(\"enter a string : \")\n",
        "b=a.split(' ')\n",
        "s=''\n",
        "for i in b:\n",
        "  x=i.capitalize()\n",
        "  y=i[-1].capitalize()\n",
        "  s=x[0:-1]+y\n",
        "  print(s,end=\" \")\n",
        "print(\"----\")\n",
        "#WAP to read a string from user and display first character of each word with capital\n",
        "a=input(\"enter a string : \")\n",
        "def cap(a):\n",
        "  a=a.title()\n",
        "  print(a)\n",
        "cap(a)"
      ],
      "metadata": {
        "colab": {
          "base_uri": "https://localhost:8080/"
        },
        "id": "yJceLvP4cwyn",
        "outputId": "2f258712-73f8-4b87-f6b6-efd69fbd999a"
      },
      "execution_count": null,
      "outputs": [
        {
          "output_type": "stream",
          "name": "stdout",
          "text": [
            "enter a string : i am madhav\n",
            "I AM MadhaV ----\n",
            "enter a string : i am madhav\n",
            "I Am Madhav\n"
          ]
        }
      ]
    },
    {
      "cell_type": "code",
      "source": [
        "#WAP to convert list of multiple integer to single integer\n",
        "#[11,33,50]  113350\n",
        "a=eval(input(\"enter list of integers: \"))\n",
        "b=\"\"\n",
        "for i in a:\n",
        "  b=b+str(i)\n",
        "print(b) "
      ],
      "metadata": {
        "colab": {
          "base_uri": "https://localhost:8080/"
        },
        "id": "MPFkobMMcVvV",
        "outputId": "822842fe-09cf-4abb-f585-d0168e4a9558"
      },
      "execution_count": null,
      "outputs": [
        {
          "output_type": "stream",
          "name": "stdout",
          "text": [
            "enter list of integers: 6666,5555,4444\n",
            "666655554444\n"
          ]
        }
      ]
    },
    {
      "cell_type": "code",
      "source": [
        "#WAP to power of number with recursion and without recursion\n",
        "import math\n",
        "n=int(input(\"enter a number: \"))\n",
        "p=int(input(\"enter power number: \"))\n",
        "x=pow(n,p)\n",
        "print(\"power of\",n,\"is:\" ,x)"
      ],
      "metadata": {
        "colab": {
          "base_uri": "https://localhost:8080/"
        },
        "id": "zs182f2wJU_t",
        "outputId": "65c0c045-bd70-40c0-8e10-d05cb9a8c6c9"
      },
      "execution_count": null,
      "outputs": [
        {
          "output_type": "stream",
          "name": "stdout",
          "text": [
            "enter a number: 2\n",
            "enter power number: 3\n",
            "power of 2 is: 8\n"
          ]
        }
      ]
    },
    {
      "cell_type": "code",
      "source": [
        "#WAP to sort tuples by total digits input list=[(3,4,6,723),(1,2),(134,34)]\n",
        "a=[(3,4,6,723),(1,2),(134,34)]\n",
        "a.sort()\n",
        "print(a)"
      ],
      "metadata": {
        "colab": {
          "base_uri": "https://localhost:8080/"
        },
        "id": "lAi3TMG4LFmT",
        "outputId": "c3db88a4-f2bb-4e8a-8dd8-00b32bf4a087"
      },
      "execution_count": null,
      "outputs": [
        {
          "output_type": "stream",
          "name": "stdout",
          "text": [
            "[(1, 2), (3, 4, 6, 723), (134, 34)]\n"
          ]
        }
      ]
    },
    {
      "cell_type": "code",
      "source": [
        "#Accepting 5 different subject marks from user and displaying the grade of the student\n",
        "m=int(input(\"enter maths marks : \"))\n",
        "p=int(input(\"enter phy marks : \"))\n",
        "c=int(input(\"enter chem marks : \"))\n",
        "s=int(input(\"enter cse marks : \"))\n",
        "b=int(input(\"enter beee marks : \"))\n",
        "total=m+p+c+s+b\n",
        "print(total)\n",
        "avg=total/5\n",
        "print(avg)\n",
        "if avg>=91 and avg<=100:\n",
        "    print(\"A+\")\n",
        "elif avg>=81 and avg<91:\n",
        "    print(\"A\")\n",
        "elif avg>=71 and avg<81:\n",
        "    print(\"B\")\n",
        "elif avg>=61 and avg<71:\n",
        "    print(\"C\")\n",
        "elif avg>=51 and avg<61:\n",
        "    print(\"D\")\n",
        "elif avg>=41 and avg<51:\n",
        "    print(\"E\")\n",
        "elif avg>=33 and avg<41:\n",
        "    print(\"F\")"
      ],
      "metadata": {
        "id": "jhw1-xndLFrC"
      },
      "execution_count": null,
      "outputs": []
    },
    {
      "cell_type": "code",
      "source": [
        "#WAP that prints one if all the three given numbers are in ascending order if not print 0\n",
        "n1=int(input(\"enter n1 : \"))\n",
        "n2=int(input(\"enter n2 : \"))\n",
        "n3=int(input(\"enter n3 : \"))\n",
        "if n1<n2<n3:\n",
        "  print(\"1\")\n",
        "else:\n",
        "  print(\"0\")  "
      ],
      "metadata": {
        "colab": {
          "base_uri": "https://localhost:8080/"
        },
        "id": "g86m-VfVLFu1",
        "outputId": "d76995c9-b696-4c4c-b571-437cbd0b83f2"
      },
      "execution_count": null,
      "outputs": [
        {
          "output_type": "stream",
          "name": "stdout",
          "text": [
            "enter n1 : 1\n",
            "enter n2 : 3\n",
            "enter n3 : 5\n",
            "1\n"
          ]
        }
      ]
    },
    {
      "cell_type": "code",
      "source": [
        "#WAP to check given number is perfect number or not \n",
        "n=int(input(\"Enter a number: \"))\n",
        "sum=0\n",
        "for i in range(1, n):\n",
        "    if(n%i==0):\n",
        "        sum=sum+i\n",
        "if (sum==n):\n",
        "    print(\"Perfect number\")\n",
        "else:\n",
        "    print(\"Not a Perfect number\")"
      ],
      "metadata": {
        "id": "0BvXkfIoLPX1",
        "colab": {
          "base_uri": "https://localhost:8080/"
        },
        "outputId": "651052c9-d6f1-4775-dc4c-19e4eb366ad0"
      },
      "execution_count": null,
      "outputs": [
        {
          "output_type": "stream",
          "name": "stdout",
          "text": [
            "Enter a number: 28\n",
            "Perfect number\n"
          ]
        }
      ]
    },
    {
      "cell_type": "code",
      "source": [
        "#WAP to check given string is palindrome or not\n",
        "a=input(\"enter a string: \")\n",
        "b=a[::-1]\n",
        "if a==b:\n",
        "  print(\"Plaindrome\")\n",
        "else :\n",
        "  print(\"Not a Palindrome\")"
      ],
      "metadata": {
        "id": "crFQQ-cdLham",
        "colab": {
          "base_uri": "https://localhost:8080/"
        },
        "outputId": "9d2efb32-14e4-4005-edf8-3e2686bdcae3"
      },
      "execution_count": null,
      "outputs": [
        {
          "output_type": "stream",
          "name": "stdout",
          "text": [
            "enter a string: liril\n",
            "Plaindrome\n"
          ]
        }
      ]
    },
    {
      "cell_type": "code",
      "source": [
        "#WAP to find gcd of two numbers with and without recursion input -5,3 output-1\n",
        "num1=int(input(\"Enter 1st number: \"))\n",
        "num2=int(input(\"Enter 2nd number: \"))\n",
        "def gcd(num1,num2):\n",
        "    if num1>num2:\n",
        "      smaller = num2\n",
        "    else:\n",
        "      smaller = num1\n",
        "    for x in range(1, smaller+1):\n",
        "        if((num1 % x == 0) and (num2 % x == 0)):\n",
        "            gcd = x \n",
        "    return gcd\n",
        "print(\"Gcd is\", hcf(num1,num2))"
      ],
      "metadata": {
        "id": "3gYC98ZCLyz1",
        "colab": {
          "base_uri": "https://localhost:8080/"
        },
        "outputId": "87e67f21-9292-486b-c48a-ddedda802ddd"
      },
      "execution_count": null,
      "outputs": [
        {
          "output_type": "stream",
          "name": "stdout",
          "text": [
            "Enter 1st number: 5\n",
            "Enter 2nd number: 3\n",
            "Gcd is 1\n"
          ]
        }
      ]
    },
    {
      "cell_type": "code",
      "source": [
        "#WAP to print sum of even digits in a number\n",
        "a=int(input(\"Enter a number: \"))\n",
        "count=0\n",
        "for i in range (a):\n",
        "  x=a%10\n",
        "  if x%2==0 :\n",
        "    count+=x\n",
        "  a=a//10\n",
        "print(count)\n"
      ],
      "metadata": {
        "id": "7aKKZEPJMNl5",
        "colab": {
          "base_uri": "https://localhost:8080/"
        },
        "outputId": "366e7138-2b04-43b5-8701-e82d59c030ea"
      },
      "execution_count": null,
      "outputs": [
        {
          "output_type": "stream",
          "name": "stdout",
          "text": [
            "Enter a number: 1234\n",
            "6\n"
          ]
        }
      ]
    },
    {
      "cell_type": "code",
      "source": [
        "#WAP calculate the product of digits of a number\n",
        "def Product():\n",
        "  n=int(input(\"Enter a number: \"))  \n",
        "  x=1\n",
        "  while (n!=0):\n",
        "    x=x*(n % 10)\n",
        "    n=n//10\n",
        "  return x\n",
        "Product()"
      ],
      "metadata": {
        "id": "rno8zeiTMhmV",
        "colab": {
          "base_uri": "https://localhost:8080/"
        },
        "outputId": "5352d303-659c-4e99-fc87-c175cf6c6247"
      },
      "execution_count": null,
      "outputs": [
        {
          "name": "stdout",
          "output_type": "stream",
          "text": [
            "Enter a number: 123\n"
          ]
        },
        {
          "output_type": "execute_result",
          "data": {
            "text/plain": [
              "6"
            ]
          },
          "metadata": {},
          "execution_count": 25
        }
      ]
    },
    {
      "cell_type": "code",
      "source": [
        "#WAP to calculate the sum of squares of a digits of a nummber \n",
        "a=int(input(\"Enter a number \"))\n",
        "count=0\n",
        "for i in range (a):\n",
        "  x=a%10\n",
        "  x=x*x\n",
        "  count=count+x\n",
        "  a=a//10\n",
        "print(count)"
      ],
      "metadata": {
        "id": "985CVfpxMpZJ",
        "colab": {
          "base_uri": "https://localhost:8080/"
        },
        "outputId": "dd0538f9-addb-465d-afc9-aec51fa70f1d"
      },
      "execution_count": null,
      "outputs": [
        {
          "output_type": "stream",
          "name": "stdout",
          "text": [
            "Enter a number 123\n",
            "14\n"
          ]
        }
      ]
    },
    {
      "cell_type": "code",
      "source": [
        "#WAP to print vowels and consonants in given string\n",
        "a=input(\"Enter a string: \")\n",
        "a=a.lower()\n",
        "c=0\n",
        "v=0\n",
        "if a.isalpha() :\n",
        "  for i in range (len(a)):\n",
        "    if a[i]==\"a\" or a[i]==\"e\" or a[i]==\"i\" or a[i]==\"o\" or a[i]==\"u\" :\n",
        "      v+=1\n",
        "    else :\n",
        "      c+=1\n",
        "  print(f\"vowels are {v} and consonants are {c}\")\n",
        "else :\n",
        "  print(\"invalid\")"
      ],
      "metadata": {
        "id": "Th8SBHMnNEsJ",
        "colab": {
          "base_uri": "https://localhost:8080/"
        },
        "outputId": "a0fdac7f-e61c-4d32-c964-69eb7b3bddaa"
      },
      "execution_count": null,
      "outputs": [
        {
          "output_type": "stream",
          "name": "stdout",
          "text": [
            "Enter a string: madhav\n",
            "vowels are 2 and consonants are 4\n"
          ]
        }
      ]
    },
    {
      "cell_type": "code",
      "source": [
        "##WAP given two integers A&B if a<b print all numbers between a and b in ascending order and viceversa\n",
        "a= int(input(\"enter a :\"))\n",
        "b= int(input(\"enter b :\"))\n",
        "if a < b :\n",
        "  for i in range (a,b+1):\n",
        "    print(i,end = \" \")\n",
        "if a > b :\n",
        "  while a>=b :\n",
        "    print(a, end = \" \")\n",
        "    a=a-1"
      ],
      "metadata": {
        "id": "8kEoGymJOrnL",
        "colab": {
          "base_uri": "https://localhost:8080/"
        },
        "outputId": "d3048678-a3f0-495e-923f-fa3e65146eaf"
      },
      "execution_count": null,
      "outputs": [
        {
          "output_type": "stream",
          "name": "stdout",
          "text": [
            "enter a :5\n",
            "enter b :1\n",
            "5 4 3 2 1 "
          ]
        }
      ]
    },
    {
      "cell_type": "code",
      "source": [
        "#WAP to print largest of three numbers\n",
        "num1=int(input(\"enter num1 : \"))\n",
        "num2=int(input(\"enter num2 : \"))\n",
        "num3=int(input(\"enter num3 : \"))\n",
        "if num1>num2 and num1>num3:\n",
        "  print(\"num1 is greater\")\n",
        "elif num2>num1 and num2>num3:\n",
        "  print(\"num2 is greater\")\n",
        "else:\n",
        " print(\"num3 is greater\") "
      ],
      "metadata": {
        "id": "99FMP-f3PabW"
      },
      "execution_count": null,
      "outputs": []
    },
    {
      "cell_type": "code",
      "source": [
        "#given list of string print if 1st and last letters of a string are same or not\n",
        "a=input(\"Enter a word \")\n",
        "if a[0]==a[-1]:\n",
        "  print(\"Yes\")\n",
        "else :\n",
        "  print(\"No\")"
      ],
      "metadata": {
        "id": "0lN12AlcPgJK",
        "colab": {
          "base_uri": "https://localhost:8080/"
        },
        "outputId": "faa60c03-7178-4e8f-ac2e-34cb0b1ca293"
      },
      "execution_count": null,
      "outputs": [
        {
          "output_type": "stream",
          "name": "stdout",
          "text": [
            "Enter a word liril\n",
            "Yes\n"
          ]
        }
      ]
    },
    {
      "cell_type": "code",
      "source": [
        "#WAP to take input from the user as the number of days ,number of rounds taken \n",
        "#calculate the total distance in hrs and mins , \n",
        "a=int(input(\"Enter days \"))\n",
        "b=int(input(\"Enter rounds taken \"))\n",
        "x=a*b*6000\n",
        "if x>=40000 :\n",
        "  print(\"Good job\")\n",
        "else :\n",
        "  print(\"Need to walk more\")"
      ],
      "metadata": {
        "id": "0nn0pnXSQNyo",
        "colab": {
          "base_uri": "https://localhost:8080/"
        },
        "outputId": "a297ec0b-63ef-4eb9-ec23-a357bd31c411"
      },
      "execution_count": null,
      "outputs": [
        {
          "output_type": "stream",
          "name": "stdout",
          "text": [
            "Enter days 5\n",
            "Enter rounds taken 20\n",
            "Good job\n"
          ]
        }
      ]
    }
  ]
}